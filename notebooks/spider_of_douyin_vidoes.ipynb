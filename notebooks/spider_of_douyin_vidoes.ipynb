{
 "cells": [
  {
   "cell_type": "code",
   "execution_count": 2,
   "metadata": {},
   "outputs": [],
   "source": [
    "#coding=utf-8\n",
    "import os\n",
    "import json\n",
    "import time\n",
    "from selenium import webdriver\n",
    "from selenium.webdriver.common.action_chains import ActionChains\n",
    "import requests"
   ]
  },
  {
   "cell_type": "markdown",
   "metadata": {},
   "source": [
    "# 需要先使用安卓模拟器，和fiddler抓包工具，获取url"
   ]
  },
  {
   "cell_type": "code",
   "execution_count": 3,
   "metadata": {},
   "outputs": [],
   "source": [
    "def downloader2(video_url, outputname):\n",
    "    #Chrome的驱动位置\n",
    "    chromedriver = \"./chromedriver.exe\"\n",
    "    browser = webdriver.Chrome(chromedriver)\n",
    "    browser.get(video_url)\n",
    "    time.sleep(3)\n",
    "\n",
    "    #访问网站\n",
    "    # inputitem = browser.find_element_by_xpath('//*[@class=\"creative-radar-detail-info__video-container\"]')\n",
    "    # action = ActionChains(browser)\n",
    "    # action.click(inputitem).perform()\n",
    "    # time.sleep(1)\n",
    "    inputitem2 = browser.find_element_by_xpath('//video')\n",
    "    finalurl = inputitem2.get_attribute('src')\n",
    "\n",
    "    headers = {'User-Agent': 'Mozilla/5.0 (Windows NT 10.0; Win64; x64) AppleWebKit/537.36 (KHTML, like Gecko) Chrome/72.0.3626.119 Safari/537.36'}\n",
    "    video = requests.get(finalurl,headers=headers).content\n",
    "    browser.close()\n",
    "    with open(outputname,'wb') as f:\n",
    "        # print('下载test_video')\n",
    "        f.write(video)"
   ]
  },
  {
   "cell_type": "code",
   "execution_count": 5,
   "metadata": {},
   "outputs": [],
   "source": [
    "with open('./203009.json', 'r', encoding='utf-8') as f:\n",
    "    content = f.read()\n",
    "\n",
    "data = json.loads(content)\n",
    "\n",
    "video_url = data['aweme_list'][0]['share_info']['share_url']"
   ]
  },
  {
   "cell_type": "markdown",
   "metadata": {},
   "source": [
    "# 爬取视频并保存"
   ]
  },
  {
   "cell_type": "code",
   "execution_count": null,
   "metadata": {},
   "outputs": [],
   "source": [
    "for i,d in enumerate(data['aweme_list']):\n",
    "    video_url = d['share_info']['share_url']\n",
    "    outputname = os.path.join('./videos', '{:0>4}.mp4'.format(i))\n",
    "    \n",
    "    downloader2(video_url, outputname)"
   ]
  },
  {
   "cell_type": "code",
   "execution_count": null,
   "metadata": {},
   "outputs": [],
   "source": []
  },
  {
   "cell_type": "code",
   "execution_count": null,
   "metadata": {},
   "outputs": [],
   "source": []
  },
  {
   "cell_type": "code",
   "execution_count": null,
   "metadata": {},
   "outputs": [],
   "source": []
  },
  {
   "cell_type": "code",
   "execution_count": null,
   "metadata": {},
   "outputs": [],
   "source": []
  },
  {
   "cell_type": "code",
   "execution_count": null,
   "metadata": {},
   "outputs": [],
   "source": []
  },
  {
   "cell_type": "code",
   "execution_count": null,
   "metadata": {},
   "outputs": [],
   "source": []
  },
  {
   "cell_type": "code",
   "execution_count": null,
   "metadata": {},
   "outputs": [],
   "source": []
  },
  {
   "cell_type": "code",
   "execution_count": null,
   "metadata": {},
   "outputs": [],
   "source": []
  },
  {
   "cell_type": "code",
   "execution_count": null,
   "metadata": {},
   "outputs": [],
   "source": []
  }
 ],
 "metadata": {
  "kernelspec": {
   "display_name": "Python 3",
   "language": "python",
   "name": "python3"
  },
  "language_info": {
   "codemirror_mode": {
    "name": "ipython",
    "version": 3
   },
   "file_extension": ".py",
   "mimetype": "text/x-python",
   "name": "python",
   "nbconvert_exporter": "python",
   "pygments_lexer": "ipython3",
   "version": "3.6.5"
  }
 },
 "nbformat": 4,
 "nbformat_minor": 2
}
