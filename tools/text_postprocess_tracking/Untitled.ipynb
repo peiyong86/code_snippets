{
 "cells": [
  {
   "cell_type": "code",
   "execution_count": 19,
   "metadata": {},
   "outputs": [],
   "source": [
    "import pickle\n",
    "\n",
    "from postprocess import post_process, filter_size\n",
    "from tracking import track_results"
   ]
  },
  {
   "cell_type": "code",
   "execution_count": null,
   "metadata": {},
   "outputs": [],
   "source": []
  },
  {
   "cell_type": "code",
   "execution_count": 5,
   "metadata": {},
   "outputs": [],
   "source": [
    "# 输入未文本框的时间序列，每个时间t下有n个文本框，每个文本框对象包含cx, cy, text, w, h等信息\n",
    "# 每个文本框对象内仅包含单行文本对象，其行高约等于文本高。"
   ]
  },
  {
   "cell_type": "code",
   "execution_count": 38,
   "metadata": {},
   "outputs": [],
   "source": [
    "results = pickle.load(open('./textSeries.pkl', 'rb'))"
   ]
  },
  {
   "cell_type": "code",
   "execution_count": null,
   "metadata": {},
   "outputs": [],
   "source": []
  },
  {
   "cell_type": "code",
   "execution_count": 33,
   "metadata": {},
   "outputs": [],
   "source": [
    "results = [[{'cx': 180, 'cy': 656, 'w': 357, 'h': 41, 'text': 'E生平安医疗险', 'degree': 0},\n",
    "            {'cx': 540, 'cy': 656, 'w': 357, 'h': 41, 'text': 'E生平安医疗险', 'degree': 0},\n",
    "            {'cx': 185, 'cy': 53, 'text': 'PINUAN', 'w': 184, 'h': 26, 'degree': 0},\n",
    "            {'cx': 61, 'cy': 741, 'text': '最高600万保障', 'w': 594, 'h': 84, 'degree': 0},\n",
    "            {'cx': 101, 'cy': 848, 'text': '让您平安无忧', 'w': 521, 'h': 84, 'degree': 0},\n",
    "            {'cx': 258, 'cy': 997, 'text': '立即投你', 'w': 184, 'h': 46, 'degree': 0}]]"
   ]
  },
  {
   "cell_type": "code",
   "execution_count": 39,
   "metadata": {},
   "outputs": [],
   "source": [
    "results = filter_size(results)"
   ]
  },
  {
   "cell_type": "code",
   "execution_count": 40,
   "metadata": {},
   "outputs": [],
   "source": [
    "results = post_process(results)"
   ]
  },
  {
   "cell_type": "code",
   "execution_count": 42,
   "metadata": {},
   "outputs": [
    {
     "data": {
      "text/plain": [
       "[[{'cx': 298, 'cy': 730, 'text': '老板', 'w': 122, 'h': 62, 'degree': 0}],\n",
       " [{'cx': 180, 'cy': 736, 'text': '您这有慢头吗', 'w': 352, 'h': 52, 'degree': 0}],\n",
       " [{'cx': 180, 'cy': 730, 'text': '您这有馒头吗', 'w': 352, 'h': 57, 'degree': 0}],\n",
       " [{'cx': 225, 'cy': 730, 'text': '我想买2个', 'w': 268, 'h': 57, 'degree': 0}],\n",
       " [{'cx': 224, 'cy': 730, 'text': '我想买2个', 'w': 268, 'h': 57, 'degree': 0}],\n",
       " [{'cx': 151, 'cy': 730, 'text': '我们这只有套餐', 'w': 414, 'h': 57, 'degree': 0}],\n",
       " [{'cx': 151, 'cy': 729, 'text': '我们这只有套餐', 'w': 416, 'h': 69, 'degree': 0}],\n",
       " [{'cx': 241, 'cy': 730, 'text': '没有慢头', 'w': 234, 'h': 62, 'degree': 0}],\n",
       " [{'cx': 241, 'cy': 730, 'text': '不吃出去', 'w': 234, 'h': 57, 'degree': 0}],\n",
       " []]"
      ]
     },
     "execution_count": 42,
     "metadata": {},
     "output_type": "execute_result"
    }
   ],
   "source": [
    "results[:10]"
   ]
  },
  {
   "cell_type": "code",
   "execution_count": 45,
   "metadata": {},
   "outputs": [],
   "source": [
    "results = [[{'cx': 298, 'cy': 730, 'text': '老板', 'w': 122, 'h': 62, 'degree': 0}],\n",
    "         [{'cx': 180, 'cy': 736, 'text': '您这有慢头吗', 'w': 352, 'h': 52, 'degree': 0}],\n",
    "         [{'cx': 180, 'cy': 730, 'text': '您这有馒头吗', 'w': 352, 'h': 57, 'degree': 0}],\n",
    "         [{'cx': 225, 'cy': 730, 'text': '我想买2个', 'w': 268, 'h': 57, 'degree': 0}],\n",
    "         [{'cx': 224, 'cy': 730, 'text': '我想买2个', 'w': 268, 'h': 57, 'degree': 0}],\n",
    "         [{'cx': 151, 'cy': 730, 'text': '我们这只有套餐', 'w': 414, 'h': 57, 'degree': 0}],\n",
    "         [{'cx': 151, 'cy': 729, 'text': '我们这只有套餐', 'w': 416, 'h': 69, 'degree': 0}],\n",
    "         [{'cx': 241, 'cy': 730, 'text': '没有慢头', 'w': 234, 'h': 62, 'degree': 0}],\n",
    "         [{'cx': 241, 'cy': 730, 'text': '不吃出去', 'w': 234, 'h': 57, 'degree': 0}],\n",
    "         []]\n",
    "\n",
    "trackers = track_results(results)"
   ]
  },
  {
   "cell_type": "code",
   "execution_count": 46,
   "metadata": {},
   "outputs": [
    {
     "data": {
      "text/plain": [
       "[Tracker(老板\n",
       " 您这有慢头吗\n",
       " 我想买2个\n",
       " 我们这只有套餐\n",
       " 没有慢头\n",
       " 不吃出去\n",
       " )]"
      ]
     },
     "execution_count": 46,
     "metadata": {},
     "output_type": "execute_result"
    }
   ],
   "source": [
    "trackers"
   ]
  },
  {
   "cell_type": "code",
   "execution_count": null,
   "metadata": {},
   "outputs": [],
   "source": []
  },
  {
   "cell_type": "code",
   "execution_count": 8,
   "metadata": {},
   "outputs": [],
   "source": [
    "# 过滤小字 # 合并同行\n",
    "results = filter_size(results)\n",
    "results = post_process(results)\n",
    "trackers = track_results(results)"
   ]
  },
  {
   "cell_type": "code",
   "execution_count": 9,
   "metadata": {},
   "outputs": [
    {
     "data": {
      "text/plain": [
       "[Tracker(老板\n",
       " 您这有慢头吗\n",
       " 我想买2个\n",
       " 我们这只有套餐\n",
       " 没有慢头\n",
       " 不吃出去\n",
       " 再给我来份炒饭\n",
       " 好的\n",
       " 来\n",
       " 别吃慢头了\n",
       " 吃这个\n",
       " 好心人谢谢你\n",
       " 我老公生病住院\n",
       " 家里积蓄都卖光了\n",
       " 现在吃饭也成了问题了\n",
       " 你没在他健康的时候\n",
       " 给他买过什么保险吗\n",
       " 苏存滑种余公和际后\n",
       " 大哥\n",
       " 你看我这条件\n",
       " 哪还买得起什么保险啊\n",
       " 那是因为你根本就不知道\n",
       " 中国平安的\n",
       " E生平安\n",
       " 乙块钱首月才\n",
       " 首月才之块钱\n",
       " 2块钱首月才\n",
       " 12次月元起\n",
       " 花不了多少钱的\n",
       " 那这么便宜的保险\n",
       " 那有什公用啊\n",
       " 怎么会没用啊\n",
       " 600万它最高保额\n",
       " 009历它最高保额\n",
       " 100覆盖种重大疾病\n",
       " 小到流感大到癌症\n",
       " 责任范围内\n",
       " 产生的医疗费用\n",
       " 都能申请报销\n",
       " 还有重疾绿色通道\n",
       " 住院医疗费不限次\n",
       " 垫付等服务\n",
       " 你们啊\n",
       " 就是保险意识太差了\n",
       " 而\n",
       " 现在说什公也没有用了呀\n",
       " 余生很贵\n",
       " 2块钱能预防的事情\n",
       " 就不要把毕生的积蓄\n",
       " 都给了医院\n",
       " 如果你已经看到这里了\n",
       " 就别犹豫了\n",
       " 点击下方链接\n",
       " 投保吧\n",
       " 最高600万保障\n",
       " ), Tracker(医疗险\n",
       " ), Tracker(E生平安医疗险\n",
       " ), Tracker(PINUAN\n",
       " ), Tracker(让您平安无忧\n",
       " ), Tracker(立即投你\n",
       " ), Tracker(津和票资金额远奖我保为推\n",
       " ), Tracker(金融科技\n",
       " ), Tracker(中国平安\n",
       " ), Tracker(本产岛苗弟首常要鼓\n",
       " )]"
      ]
     },
     "execution_count": 9,
     "metadata": {},
     "output_type": "execute_result"
    }
   ],
   "source": [
    "trackers"
   ]
  },
  {
   "cell_type": "code",
   "execution_count": null,
   "metadata": {},
   "outputs": [],
   "source": []
  },
  {
   "cell_type": "code",
   "execution_count": null,
   "metadata": {},
   "outputs": [],
   "source": []
  },
  {
   "cell_type": "code",
   "execution_count": null,
   "metadata": {},
   "outputs": [],
   "source": []
  }
 ],
 "metadata": {
  "kernelspec": {
   "display_name": "Python 3",
   "language": "python",
   "name": "python3"
  },
  "language_info": {
   "codemirror_mode": {
    "name": "ipython",
    "version": 3
   },
   "file_extension": ".py",
   "mimetype": "text/x-python",
   "name": "python",
   "nbconvert_exporter": "python",
   "pygments_lexer": "ipython3",
   "version": "3.6.5"
  }
 },
 "nbformat": 4,
 "nbformat_minor": 2
}
